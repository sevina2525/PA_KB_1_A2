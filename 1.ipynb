{
 "cells": [
  {
   "cell_type": "code",
   "execution_count": 114,
   "id": "0adc2146",
   "metadata": {},
   "outputs": [],
   "source": [
    "import numpy as np\n",
    "import matplotlib.pyplot as plt\n",
    "import tensorflow as tf\n",
    "import os\n",
    "import cv2\n",
    "import splitfolders\n",
    "import seaborn as sns\n",
    "from sklearn.metrics import classification_report,confusion_matrix\n",
    "import pathlib"
   ]
  },
  {
   "cell_type": "markdown",
   "id": "2cc24743",
   "metadata": {},
   "source": [
    "## Data Collecting"
   ]
  },
  {
   "cell_type": "markdown",
   "id": "9ba63dbb",
   "metadata": {},
   "source": [
    " Bagi data :\n",
    " - Train\n",
    " - Val\n",
    " - Test"
   ]
  },
  {
   "cell_type": "code",
   "execution_count": 2,
   "id": "cb2fe8e1",
   "metadata": {},
   "outputs": [
    {
     "name": "stderr",
     "output_type": "stream",
     "text": [
      "Copying files: 10000 files [01:01, 162.77 files/s]\n"
     ]
    }
   ],
   "source": [
    "splitfolders.ratio('HijabDataset/','Data',ratio=(0.7,0.2,0.1))"
   ]
  },
  {
   "cell_type": "code",
   "execution_count": 22,
   "id": "bba5281e",
   "metadata": {},
   "outputs": [],
   "source": [
    "trainPath = 'Data/train/'\n",
    "valPath = 'Data/val/'\n",
    "testPath = 'Data/test/'"
   ]
  },
  {
   "cell_type": "markdown",
   "id": "2f283270",
   "metadata": {},
   "source": [
    "**Read Data**"
   ]
  },
  {
   "cell_type": "code",
   "execution_count": 23,
   "id": "c99a95f4",
   "metadata": {},
   "outputs": [
    {
     "name": "stdout",
     "output_type": "stream",
     "text": [
      "Found 7000 files belonging to 2 classes.\n",
      "Found 2000 files belonging to 2 classes.\n",
      "Found 1000 files belonging to 2 classes.\n"
     ]
    }
   ],
   "source": [
    "train =tf.keras.utils.image_dataset_from_directory(trainPath)\n",
    "val =tf.keras.utils.image_dataset_from_directory(valPath)\n",
    "test =tf.keras.utils.image_dataset_from_directory(testPath)"
   ]
  },
  {
   "cell_type": "markdown",
   "id": "1be3fb8c",
   "metadata": {},
   "source": [
    "## Data Preprocessing"
   ]
  },
  {
   "cell_type": "code",
   "execution_count": 24,
   "id": "6e0aee27",
   "metadata": {},
   "outputs": [],
   "source": [
    "def random_brightness(image,label):\n",
    "    return tf.image.random_brightness(image, max_delta=0.5),label\n",
    "\n",
    "def random_flip(image,label):\n",
    "    return tf.image.random_flip_left_right(image),label\n",
    "\n",
    "def resize(image,label):\n",
    "    return tf.image.resize(image,[150,150]),label"
   ]
  },
  {
   "cell_type": "code",
   "execution_count": 25,
   "id": "d9223b74",
   "metadata": {},
   "outputs": [],
   "source": [
    "train = train.map(random_brightness).map(random_flip).shuffle(20).map(resize)\n",
    "\n",
    "test = test.map(resize)\n",
    "\n",
    "val = val.map(resize)"
   ]
  }
 ],
 "metadata": {
  "kernelspec": {
   "display_name": "Python 3 (ipykernel)",
   "language": "python",
   "name": "python3"
  },
  "language_info": {
   "codemirror_mode": {
    "name": "ipython",
    "version": 3
   },
   "file_extension": ".py",
   "mimetype": "text/x-python",
   "name": "python",
   "nbconvert_exporter": "python",
   "pygments_lexer": "ipython3",
   "version": "3.10.7"
  }
 },
 "nbformat": 4,
 "nbformat_minor": 5
}
